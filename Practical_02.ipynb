{
  "nbformat": 4,
  "nbformat_minor": 0,
  "metadata": {
    "colab": {
      "provenance": [],
      "authorship_tag": "ABX9TyOJET5hoxj8x9WKxCpmEAfc",
      "include_colab_link": true
    },
    "kernelspec": {
      "name": "python3",
      "display_name": "Python 3"
    },
    "language_info": {
      "name": "python"
    }
  },
  "cells": [
    {
      "cell_type": "markdown",
      "metadata": {
        "id": "view-in-github",
        "colab_type": "text"
      },
      "source": [
        "<a href=\"https://colab.research.google.com/github/HARSHGit45/Deep-Learning-Neural-Networks/blob/main/Practical_02.ipynb\" target=\"_parent\"><img src=\"https://colab.research.google.com/assets/colab-badge.svg\" alt=\"Open In Colab\"/></a>"
      ]
    },
    {
      "cell_type": "code",
      "execution_count": 1,
      "metadata": {
        "colab": {
          "base_uri": "https://localhost:8080/"
        },
        "id": "sAAM6F5Wlx6a",
        "outputId": "d529facd-4f36-4ef2-aab1-875bd20d243b"
      },
      "outputs": [
        {
          "output_type": "stream",
          "name": "stdout",
          "text": [
            "Path to dataset files: /root/.cache/kagglehub/datasets/lincolnzh/martianlunar-crater-detection-dataset/versions/2\n"
          ]
        }
      ],
      "source": [
        "import cv2 as cv\n",
        "import matplotlib.pyplot as plt\n",
        "import numpy as np\n",
        "from skimage.feature import canny\n",
        "from skimage import morphology, segmentation\n",
        "from skimage.color import label2rgb\n",
        "from scipy.ndimage import binary_fill_holes, sobel, label\n",
        "\n",
        "import kagglehub\n",
        "path = kagglehub.dataset_download(\"lincolnzh/martianlunar-crater-detection-dataset\")\n",
        "print(\"Path to dataset files:\", path)\n",
        "import os\n",
        "\n",
        "\n"
      ]
    },
    {
      "cell_type": "code",
      "source": [
        "class ThresholdingSegmentation:\n",
        "    def __init__(self, image_path):\n",
        "        self.image_path = image_path\n",
        "        self.image = cv.imread(image_path, cv.IMREAD_GRAYSCALE)\n",
        "\n",
        "    def binary_threshold(self, threshold_value=127):\n",
        "        ret, thresh1 = cv.threshold(self.image, threshold_value, 255, cv.THRESH_BINARY)\n",
        "        plt.imshow(thresh1, cmap='gray', vmin=0, vmax=255)\n",
        "        plt.title('Binary Thresholding')\n",
        "        plt.show()\n",
        "\n",
        "    def adaptive_threshold(self):\n",
        "        th2 = cv.adaptiveThreshold(self.image, 255, cv.ADAPTIVE_THRESH_MEAN_C, cv.THRESH_BINARY, 11, 2)\n",
        "        plt.imshow(th2, cmap='gray', vmin=0, vmax=255)\n",
        "        plt.title('Adaptive Thresholding')\n",
        "        plt.show()\n",
        "\n",
        "    def otsu_threshold(self):\n",
        "        ret2, th3 = cv.threshold(self.image, 0, 255, cv.THRESH_BINARY + cv.THRESH_OTSU)\n",
        "        plt.imshow(th3, cmap='gray', vmin=0, vmax=255)\n",
        "        plt.title('Otsu’s Thresholding')\n",
        "        plt.show()\n"
      ],
      "metadata": {
        "id": "_spKYEDnl6sb"
      },
      "execution_count": 2,
      "outputs": []
    },
    {
      "cell_type": "code",
      "source": [
        "class RegionGrowingSegmentation:\n",
        "    def __init__(self, image_path):\n",
        "        self.image_path = image_path\n",
        "        self.image = cv.imread(image_path, cv.IMREAD_GRAYSCALE)\n",
        "\n",
        "    def canny_edge_detection(self):\n",
        "        edges = canny(self.image / 255.0)\n",
        "        plt.imshow(edges, cmap='gray')\n",
        "        plt.title('Canny Edge Detection')\n",
        "        plt.show()\n",
        "        return edges\n",
        "\n",
        "    def region_fill(self, edges):\n",
        "        fill_im = binary_fill_holes(edges)\n",
        "        plt.imshow(fill_im, cmap='gray')\n",
        "        plt.title('Region Filling')\n",
        "        plt.show()\n",
        "        return fill_im\n",
        "\n",
        "    def watershed_segmentation(self):\n",
        "        elevation_map = sobel(self.image / 255.0)\n",
        "        plt.imshow(elevation_map, cmap='gray')\n",
        "        plt.title('Elevation Map')\n",
        "        plt.show()\n",
        "\n",
        "        markers = np.zeros_like(self.image)\n",
        "        markers[self.image < 30] = 1\n",
        "        markers[self.image > 150] = 2\n",
        "        plt.imshow(markers, cmap='gray')\n",
        "        plt.title('Markers for Watershed')\n",
        "        plt.show()\n",
        "\n",
        "        segment = segmentation.watershed(elevation_map, markers)\n",
        "        segment = binary_fill_holes(segment - 1)\n",
        "        label_rock, _ = label(segment)\n",
        "        image_label_overlay = label2rgb(label_rock, image=self.image / 255.0)\n",
        "\n",
        "        fig, (ax1, ax2) = plt.subplots(1, 2, figsize=(12, 8))\n",
        "        ax1.imshow(self.image, cmap='gray')\n",
        "        ax1.contour(segment, [0.8], linewidths=1.8, colors='w')\n",
        "        ax1.set_title('Contour Overlay')\n",
        "        ax2.imshow(image_label_overlay)\n",
        "        ax2.set_title('Watershed Segmentation')\n",
        "        plt.show()\n"
      ],
      "metadata": {
        "id": "4Rq2jisXmAcL"
      },
      "execution_count": 3,
      "outputs": []
    },
    {
      "cell_type": "code",
      "source": [
        "def main_menu():\n",
        "    image_path = '/root/.cache/kagglehub/datasets/lincolnzh/martianlunar-crater-detection-dataset/versions/2/craters/train/images/mars_crater--24-_jpg.rf.4614bb6844fda70ea8a3b4f515cb7e8f.jpg'\n",
        "    while True:\n",
        "        print(\"\\n--- Segmentation Menu ---\")\n",
        "        print(\"1. Thresholding Segmentation\")\n",
        "        print(\"2. Region Growing Segmentation\")\n",
        "        print(\"3. Exit\")\n",
        "\n",
        "        choice = input(\"Enter your choice (1-3): \")\n",
        "\n",
        "        if choice == '1':\n",
        "            thresholding = ThresholdingSegmentation(image_path)\n",
        "            print(\"\\n--- Thresholding Options ---\")\n",
        "            print(\"1. Binary Threshold\")\n",
        "            print(\"2. Adaptive Threshold\")\n",
        "            print(\"3. Otsu's Threshold\")\n",
        "            sub_choice = input(\"Enter your choice (1-3): \")\n",
        "\n",
        "            if sub_choice == '1':\n",
        "                thresholding.binary_threshold()\n",
        "            elif sub_choice == '2':\n",
        "                thresholding.adaptive_threshold()\n",
        "            elif sub_choice == '3':\n",
        "                thresholding.otsu_threshold()\n",
        "            else:\n",
        "                print(\"Invalid option.\")\n",
        "\n",
        "        elif choice == '2':\n",
        "            region_growing = RegionGrowingSegmentation(image_path)\n",
        "            edges = region_growing.canny_edge_detection()\n",
        "            filled = region_growing.region_fill(edges)\n",
        "            region_growing.watershed_segmentation()\n",
        "\n",
        "        elif choice == '3':\n",
        "            print(\"Exiting the program.\")\n",
        "            break\n",
        "\n",
        "        else:\n",
        "            print(\"Invalid option. Please try again.\")\n",
        "\n"
      ],
      "metadata": {
        "id": "MtKwxIGWmEBM"
      },
      "execution_count": 4,
      "outputs": []
    },
    {
      "cell_type": "code",
      "source": [
        "#main_menu()"
      ],
      "metadata": {
        "id": "DDsYOGQtmFv-"
      },
      "execution_count": 5,
      "outputs": []
    }
  ]
}